{
 "cells": [
  {
   "cell_type": "code",
   "execution_count": 48,
   "metadata": {},
   "outputs": [
    {
     "data": {
      "text/plain": [
       "['Do uong', 'Banh keo', 'Thong tin san pham']"
      ]
     },
     "execution_count": 48,
     "metadata": {},
     "output_type": "execute_result"
    }
   ],
   "source": [
    "import pandas as pd\n",
    "\n",
    "# Đường dẫn file đã tải lên\n",
    "file_path = \"LtrUDchoKT_DuLieuBTNhomSo2_final.xlsx\"\n",
    "\n",
    "# Đọc danh sách sheet trong file\n",
    "xls = pd.ExcelFile(file_path)\n",
    "xls.sheet_names"
   ]
  },
  {
   "cell_type": "code",
   "execution_count": 49,
   "metadata": {},
   "outputs": [],
   "source": [
    "import pandas as pd\n",
    "import matplotlib.pyplot as plt"
   ]
  },
  {
   "cell_type": "code",
   "execution_count": 56,
   "metadata": {},
   "outputs": [
    {
     "name": "stdout",
     "output_type": "stream",
     "text": [
      "Các cột của df_thong_tin: Index(['Mã sản phẩm', 'Nhà cung cấp', 'Giá bán', 'Giá nhập',\n",
      "       'Số lượng tồn kho', 'lợi nhuận dự kiến'],\n",
      "      dtype='object')\n",
      "Các cột của df_banh_keo: Index(['Mã sản phẩm', 'Tên sản phẩm', 'Đơn vị'], dtype='object')\n",
      "Các cột của df_do_uong: Index(['Mã sản phẩm', 'Tên sản phẩm', 'Đơn vị'], dtype='object')\n"
     ]
    }
   ],
   "source": [
    "# Đọc dữ liệu từ file Excel\n",
    "file_path = \"LtrUDchoKT_DuLieuBTNhomSo2_final.xlsx\"\n",
    "sheets = [\"Thong tin san pham\", \"Banh keo\", \"Do uong\"]\n",
    "df_thong_tin = pd.read_excel(file_path, sheet_name=sheets[0])\n",
    "df_banh_keo = pd.read_excel(file_path, sheet_name=sheets[1])\n",
    "df_do_uong = pd.read_excel(file_path, sheet_name=sheets[2])\n",
    "\n",
    "# Kiểm tra danh sách cột\n",
    "print(\"Các cột của df_thong_tin:\", df_thong_tin.columns)\n",
    "print(\"Các cột của df_banh_keo:\", df_banh_keo.columns)\n",
    "print(\"Các cột của df_do_uong:\", df_do_uong.columns)"
   ]
  },
  {
   "cell_type": "code",
   "execution_count": 57,
   "metadata": {},
   "outputs": [],
   "source": [
    "# Chuẩn hóa tên cột\n",
    "df_thong_tin.columns = df_thong_tin.columns.str.strip()\n",
    "df_banh_keo.columns = df_banh_keo.columns.str.strip()\n",
    "df_do_uong.columns = df_do_uong.columns.str.strip()\n",
    "\n",
    "# Lấy dữ liệu từ df_tong_hop nếu cần thiết\n",
    "df_banh_keo = df_thong_tin[df_thong_tin[\"Mã sản phẩm\"].isin(df_banh_keo[\"Mã sản phẩm\"])]\n",
    "df_do_uong = df_thong_tin[df_thong_tin[\"Mã sản phẩm\"].isin(df_do_uong[\"Mã sản phẩm\"])]"
   ]
  },
  {
   "cell_type": "code",
   "execution_count": 58,
   "metadata": {},
   "outputs": [
    {
     "name": "stdout",
     "output_type": "stream",
     "text": [
      "Dữ liệu df_tong_hop:\n",
      "   Mã sản phẩm Nhà cung cấp  Giá bán  Giá nhập  Số lượng tồn kho  \\\n",
      "0            1      VIFOTEX    90000     69350                30   \n",
      "1            2      VIFOTEX    93600     72485                45   \n",
      "2            3      VIFOTEX    86400     65900                47   \n",
      "3            4      VIFOTEX    78900     63200                59   \n",
      "4            5     BachKhoa    85690     62300                43   \n",
      "\n",
      "   lợi nhuận dự kiến  Lợi nhuận dự kiến  Tỷ lệ lợi nhuận  \n",
      "0              20650              20650        29.776496  \n",
      "1              21115              21115        29.130165  \n",
      "2              20500              20500        31.107739  \n",
      "3              15700              15700        24.841772  \n",
      "4              23390              23390        37.544141  \n"
     ]
    }
   ],
   "source": [
    "# Tạo DataFrame tổng hợp\n",
    "df_tong_hop = df_thong_tin.copy()\n",
    "df_tong_hop[\"Lợi nhuận dự kiến\"] = df_tong_hop[\"Giá bán\"] - df_tong_hop[\"Giá nhập\"]\n",
    "df_tong_hop[\"Tỷ lệ lợi nhuận\"] = (df_tong_hop[\"Lợi nhuận dự kiến\"] / df_tong_hop[\"Giá nhập\"]) * 100\n",
    "print(\"Dữ liệu df_tong_hop:\")\n",
    "print(df_tong_hop.head())"
   ]
  },
  {
   "cell_type": "code",
   "execution_count": 59,
   "metadata": {},
   "outputs": [
    {
     "name": "stdout",
     "output_type": "stream",
     "text": [
      "Sản phẩm có giá nhập cao nhất: {'Bánh kẹo': Mã sản phẩm              110\n",
      "Nhà cung cấp          Á châu\n",
      "Giá bán              1510300\n",
      "Giá nhập              965700\n",
      "Số lượng tồn kho          56\n",
      "lợi nhuận dự kiến     544600\n",
      "Name: 25, dtype: object, 'Đồ uống': Mã sản phẩm                 9\n",
      "Nhà cung cấp         BachKhoa\n",
      "Giá bán                480300\n",
      "Giá nhập               354900\n",
      "Số lượng tồn kho          358\n",
      "lợi nhuận dự kiến      125400\n",
      "Name: 8, dtype: object}\n",
      "\n",
      "Tổng số lượng tồn kho: {'Bánh kẹo': np.int64(602), 'Đồ uống': np.int64(1870)}\n",
      "\n",
      "Giá trị tồn kho trung bình: 235210.1935483871\n"
     ]
    }
   ],
   "source": [
    "# Thống kê\n",
    "gia_nhap_cao_nhat = {\n",
    "    \"Bánh kẹo\": df_banh_keo.loc[df_banh_keo[\"Giá nhập\"].idxmax()],\n",
    "    \"Đồ uống\": df_do_uong.loc[df_do_uong[\"Giá nhập\"].idxmax()]\n",
    "}\n",
    "print(\"Sản phẩm có giá nhập cao nhất:\", gia_nhap_cao_nhat)\n",
    "print(\"\")\n",
    "tong_ton_kho = {\n",
    "    \"Bánh kẹo\": df_banh_keo[\"Số lượng tồn kho\"].sum(),\n",
    "    \"Đồ uống\": df_do_uong[\"Số lượng tồn kho\"].sum()\n",
    "}\n",
    "print(\"Tổng số lượng tồn kho:\", tong_ton_kho)\n",
    "print(\"\")\n",
    "gia_tri_ton_kho_tb = df_tong_hop[\"Giá nhập\"].mean()\n",
    "print(\"Giá trị tồn kho trung bình:\", gia_tri_ton_kho_tb)"
   ]
  },
  {
   "cell_type": "code",
   "execution_count": 60,
   "metadata": {},
   "outputs": [
    {
     "name": "stdout",
     "output_type": "stream",
     "text": [
      "Sản phẩm có tỷ lệ lợi nhuận cao:\n",
      "   Mã sản phẩm Nhà cung cấp  Giá bán  Giá nhập  Số lượng tồn kho  \\\n",
      "0            1      VIFOTEX    90000     69350                30   \n",
      "1            2      VIFOTEX    93600     72485                45   \n",
      "2            3      VIFOTEX    86400     65900                47   \n",
      "4            5     BachKhoa    85690     62300                43   \n",
      "5            6     BachKhoa    86400     65900                38   \n",
      "\n",
      "   lợi nhuận dự kiến  Lợi nhuận dự kiến  Tỷ lệ lợi nhuận  \n",
      "0              20650              20650        29.776496  \n",
      "1              21115              21115        29.130165  \n",
      "2              20500              20500        31.107739  \n",
      "4              23390              23390        37.544141  \n",
      "5              20500              20500        31.107739  \n"
     ]
    }
   ],
   "source": [
    "# Lọc dữ liệu\n",
    "san_pham_loi_nhuan_cao = df_tong_hop[df_tong_hop[\"Tỷ lệ lợi nhuận\"] > 25]\n",
    "print(\"Sản phẩm có tỷ lệ lợi nhuận cao:\")\n",
    "print(san_pham_loi_nhuan_cao.head())"
   ]
  },
  {
   "cell_type": "code",
   "execution_count": 55,
   "metadata": {},
   "outputs": [
    {
     "name": "stdout",
     "output_type": "stream",
     "text": [
      "Sản phẩm có tỷ lệ lợi nhuận cao:\n",
      "   Mã sản phẩm Nhà cung cấp  Giá bán  Giá nhập  Số lượng tồn kho  \\\n",
      "0            1      VIFOTEX    90000     69350                30   \n",
      "1            2      VIFOTEX    93600     72485                45   \n",
      "2            3      VIFOTEX    86400     65900                47   \n",
      "4            5     BachKhoa    85690     62300                43   \n",
      "5            6     BachKhoa    86400     65900                38   \n",
      "\n",
      "   lợi nhuận dự kiến  Lợi nhuận dự kiến  Tỷ lệ lợi nhuận  \n",
      "0              20650              20650        29.776496  \n",
      "1              21115              21115        29.130165  \n",
      "2              20500              20500        31.107739  \n",
      "4              23390              23390        37.544141  \n",
      "5              20500              20500        31.107739  \n",
      "Top 10 sản phẩm có giá bán cao nhất:\n",
      "    Mã sản phẩm Nhà cung cấp  Giá bán  Giá nhập  Số lượng tồn kho  \\\n",
      "25          110       Á châu  1510300    965700                56   \n",
      "29          114      Kinh đô   990000    785400                38   \n",
      "30          115       Á châu   815300    615400                24   \n",
      "27          112      Kinh đô   505600    412200                30   \n",
      "8             9     BachKhoa   480300    354900               358   \n",
      "24          109       Á châu   435200    325400                65   \n",
      "17          102       Á châu   400000    294000                26   \n",
      "22          107     Oneonevn   395200    258400                58   \n",
      "19          104    Orionvina   384500    265350                62   \n",
      "26          111      Kinh đô   374400    285300                25   \n",
      "\n",
      "    lợi nhuận dự kiến  Lợi nhuận dự kiến  Tỷ lệ lợi nhuận  \n",
      "25             544600             544600        56.394325  \n",
      "29             204600             204600        26.050420  \n",
      "30             199900             199900        32.482938  \n",
      "27              93400              93400        22.658903  \n",
      "8              125400             125400        35.333897  \n",
      "24             109800             109800        33.743085  \n",
      "17             106000             106000        36.054422  \n",
      "22             136800             136800        52.941176  \n",
      "19             119150             119150        44.902958  \n",
      "26              89100              89100        31.230284  \n"
     ]
    }
   ],
   "source": [
    "# Lọc dữ liệu\n",
    "san_pham_loi_nhuan_cao = df_tong_hop[df_tong_hop[\"Tỷ lệ lợi nhuận\"] > 25]\n",
    "print(\"Sản phẩm có tỷ lệ lợi nhuận cao:\")\n",
    "print(san_pham_loi_nhuan_cao.head())\n",
    "\n",
    "san_pham_top_10_gia_ban = df_tong_hop.nlargest(10, \"Giá bán\")\n",
    "print(\"Top 10 sản phẩm có giá bán cao nhất:\")\n",
    "print(san_pham_top_10_gia_ban)"
   ]
  },
  {
   "cell_type": "code",
   "execution_count": 69,
   "metadata": {},
   "outputs": [
    {
     "data": {
      "image/png": "[encoded data removed]",
      "text/plain": [
       "<Figure size 1000x500 with 1 Axes>"
      ]
     },
     "metadata": {},
     "output_type": "display_data"
    },
    {
     "data": {
      "image/png": "[encoded data removed]",
      "text/plain": [
       "<Figure size 600x400 with 1 Axes>"
      ]
     },
     "metadata": {},
     "output_type": "display_data"
    }
   ],
   "source": [
    "# Vẽ biểu đồ (SỬA LỖI: DÙNG 'Mã sản phẩm' THAY CHO 'Tên sản phẩm')\n",
    "plt.figure(figsize=(10, 5))\n",
    "plt.bar(df_tong_hop[\"Mã sản phẩm\"], df_tong_hop[\"Số lượng tồn kho\"])\n",
    "plt.xticks(rotation=90)\n",
    "plt.title(\"Phân bố số lượng tồn kho theo sản phẩm\")\n",
    "plt.xlabel(\"Mã sản phẩm\")\n",
    "plt.ylabel(\"Số lượng tồn kho\")\n",
    "plt.show()\n",
    "\n",
    "\n",
    "\n",
    "plt.figure(figsize=(6, 4))\n",
    "plt.bar([\"Bánh kẹo\", \"Đồ uống\"], [df_banh_keo[\"lợi nhuận dự kiến\"].sum(), df_do_uong[\"lợi nhuận dự kiến\"].sum()])\n",
    "plt.title(\"Tổng lợi nhuận dự kiến giữa các danh mục\")\n",
    "plt.ylabel(\"Lợi nhuận dự kiến\")\n",
    "plt.show()"
   ]
  },
  {
   "cell_type": "code",
   "execution_count": 70,
   "metadata": {},
   "outputs": [
    {
     "name": "stdout",
     "output_type": "stream",
     "text": [
      "Xuất file Excel hoàn tất: Ket_qua.xlsx\n"
     ]
    }
   ],
   "source": [
    "# Xuất file Excel\n",
    "output_file = \"Ket_qua.xlsx\"\n",
    "with pd.ExcelWriter(output_file) as writer:\n",
    "    df_tong_hop.to_excel(writer, sheet_name=\"Tong Hop\", index=False)\n",
    "    san_pham_loi_nhuan_cao.to_excel(writer, sheet_name=\"Loi Nhuan Cao\", index=False)\n",
    "    san_pham_top_10_gia_ban.to_excel(writer, sheet_name=\"Top 10 Gia Ban\", index=False)\n",
    "    pd.DataFrame.from_dict(gia_nhap_cao_nhat, orient='index').to_excel(writer, sheet_name=\"Gia Nhap Cao Nhat\")\n",
    "    pd.DataFrame.from_dict(tong_ton_kho, orient='index', columns=[\"Tổng số lượng tồn kho\"]).to_excel(writer, sheet_name=\"Tong Ton Kho\")\n",
    "    pd.DataFrame([{\"Giá trị tồn kho trung bình\": gia_tri_ton_kho_tb}]).to_excel(writer, sheet_name=\"Gia Tri Ton Kho TB\", index=False)\n",
    "\n",
    "print(f\"Xuất file Excel hoàn tất: {output_file}\")"
   ]
  }
 ],
 "metadata": {
  "kernelspec": {
   "display_name": "Python 3",
   "language": "python",
   "name": "python3"
  },
  "language_info": {
   "codemirror_mode": {
    "name": "ipython",
    "version": 3
   },
   "file_extension": ".py",
   "mimetype": "text/x-python",
   "name": "python",
   "nbconvert_exporter": "python",
   "pygments_lexer": "ipython3",
   "version": "3.13.1"
  }
 },
 "nbformat": 4,
 "nbformat_minor": 2
}
